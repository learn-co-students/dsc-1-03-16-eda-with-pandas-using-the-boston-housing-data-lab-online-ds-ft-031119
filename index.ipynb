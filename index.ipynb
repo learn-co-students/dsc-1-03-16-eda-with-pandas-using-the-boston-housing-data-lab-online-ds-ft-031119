{
 "cells": [
  {
   "cell_type": "markdown",
   "metadata": {},
   "source": [
    "# Project - EDA with Pandas Using the Boston Housing Data\n",
    "\n",
    "## Introduction\n",
    "\n",
    "In this section you've learned a lot about importing, cleaning up, analysing (using descriptive statistics) and visualizing data. In this more free form project you'll get a chance to practice all of these skills with the Boston Housing data set, which contains housing values in suburbs of Boston. The Boston Housing Data is commonly used by aspiring data scientists.\n",
    "\n",
    "## Objectives\n",
    "\n",
    "You will be able to:\n",
    "\n",
    "* Load csv files using Pandas\n",
    "* Find variables with high correlation\n",
    "* Create box plots"
   ]
  },
  {
   "cell_type": "markdown",
   "metadata": {},
   "source": [
    "# Goals\n",
    "\n",
    "Use your data munging and visualization skills to conduct an exploratory analysis of the dataset below. At minimum, this should include:\n",
    "\n",
    "* Loading the data (which is stored in the file train.csv)\n",
    "* Use built-in python functions to explore measures of centrality and dispersion for at least 3 variables\n",
    "* Create *meaningful* subsets of the data using selection operations using `.loc`, `.iloc` or related operations. Explain why you used the chosen subsets and do this for 3 possible 2-way splits. State how you think the 2 measures of centrality and/or dispersion might be different for each subset of the data. Examples of potential splits:\n",
    "    - Create a 2 new dataframes based on your existing data, where one contains all the properties next to the Charles river, and the other one contains properties that aren't.\n",
    "    - Create 2 new datagrames based on a certain split for crime rate.\n",
    "* Next, use histograms and scatterplots to see whether you observe differences for the subsets of the data. Make sure to use subplots so it is easy to compare the relationships."
   ]
  },
  {
   "cell_type": "code",
   "execution_count": 4,
   "metadata": {},
   "outputs": [
    {
     "data": {
      "text/html": [
       "<div>\n",
       "<style scoped>\n",
       "    .dataframe tbody tr th:only-of-type {\n",
       "        vertical-align: middle;\n",
       "    }\n",
       "\n",
       "    .dataframe tbody tr th {\n",
       "        vertical-align: top;\n",
       "    }\n",
       "\n",
       "    .dataframe thead th {\n",
       "        text-align: right;\n",
       "    }\n",
       "</style>\n",
       "<table border=\"1\" class=\"dataframe\">\n",
       "  <thead>\n",
       "    <tr style=\"text-align: right;\">\n",
       "      <th></th>\n",
       "      <th>ID</th>\n",
       "      <th>crim</th>\n",
       "      <th>zn</th>\n",
       "      <th>indus</th>\n",
       "      <th>chas</th>\n",
       "      <th>nox</th>\n",
       "      <th>rm</th>\n",
       "      <th>age</th>\n",
       "      <th>dis</th>\n",
       "      <th>rad</th>\n",
       "      <th>tax</th>\n",
       "      <th>ptratio</th>\n",
       "      <th>black</th>\n",
       "      <th>lstat</th>\n",
       "      <th>medv</th>\n",
       "    </tr>\n",
       "  </thead>\n",
       "  <tbody>\n",
       "    <tr>\n",
       "      <th>0</th>\n",
       "      <td>1</td>\n",
       "      <td>0.00632</td>\n",
       "      <td>18.0</td>\n",
       "      <td>2.31</td>\n",
       "      <td>0</td>\n",
       "      <td>0.538</td>\n",
       "      <td>6.575</td>\n",
       "      <td>65.2</td>\n",
       "      <td>4.0900</td>\n",
       "      <td>1</td>\n",
       "      <td>296</td>\n",
       "      <td>15.3</td>\n",
       "      <td>396.90</td>\n",
       "      <td>4.98</td>\n",
       "      <td>24.0</td>\n",
       "    </tr>\n",
       "    <tr>\n",
       "      <th>1</th>\n",
       "      <td>2</td>\n",
       "      <td>0.02731</td>\n",
       "      <td>0.0</td>\n",
       "      <td>7.07</td>\n",
       "      <td>0</td>\n",
       "      <td>0.469</td>\n",
       "      <td>6.421</td>\n",
       "      <td>78.9</td>\n",
       "      <td>4.9671</td>\n",
       "      <td>2</td>\n",
       "      <td>242</td>\n",
       "      <td>17.8</td>\n",
       "      <td>396.90</td>\n",
       "      <td>9.14</td>\n",
       "      <td>21.6</td>\n",
       "    </tr>\n",
       "    <tr>\n",
       "      <th>2</th>\n",
       "      <td>4</td>\n",
       "      <td>0.03237</td>\n",
       "      <td>0.0</td>\n",
       "      <td>2.18</td>\n",
       "      <td>0</td>\n",
       "      <td>0.458</td>\n",
       "      <td>6.998</td>\n",
       "      <td>45.8</td>\n",
       "      <td>6.0622</td>\n",
       "      <td>3</td>\n",
       "      <td>222</td>\n",
       "      <td>18.7</td>\n",
       "      <td>394.63</td>\n",
       "      <td>2.94</td>\n",
       "      <td>33.4</td>\n",
       "    </tr>\n",
       "    <tr>\n",
       "      <th>3</th>\n",
       "      <td>5</td>\n",
       "      <td>0.06905</td>\n",
       "      <td>0.0</td>\n",
       "      <td>2.18</td>\n",
       "      <td>0</td>\n",
       "      <td>0.458</td>\n",
       "      <td>7.147</td>\n",
       "      <td>54.2</td>\n",
       "      <td>6.0622</td>\n",
       "      <td>3</td>\n",
       "      <td>222</td>\n",
       "      <td>18.7</td>\n",
       "      <td>396.90</td>\n",
       "      <td>5.33</td>\n",
       "      <td>36.2</td>\n",
       "    </tr>\n",
       "    <tr>\n",
       "      <th>4</th>\n",
       "      <td>7</td>\n",
       "      <td>0.08829</td>\n",
       "      <td>12.5</td>\n",
       "      <td>7.87</td>\n",
       "      <td>0</td>\n",
       "      <td>0.524</td>\n",
       "      <td>6.012</td>\n",
       "      <td>66.6</td>\n",
       "      <td>5.5605</td>\n",
       "      <td>5</td>\n",
       "      <td>311</td>\n",
       "      <td>15.2</td>\n",
       "      <td>395.60</td>\n",
       "      <td>12.43</td>\n",
       "      <td>22.9</td>\n",
       "    </tr>\n",
       "  </tbody>\n",
       "</table>\n",
       "</div>"
      ],
      "text/plain": [
       "   ID     crim    zn  indus  chas    nox     rm   age     dis  rad  tax  \\\n",
       "0   1  0.00632  18.0   2.31     0  0.538  6.575  65.2  4.0900    1  296   \n",
       "1   2  0.02731   0.0   7.07     0  0.469  6.421  78.9  4.9671    2  242   \n",
       "2   4  0.03237   0.0   2.18     0  0.458  6.998  45.8  6.0622    3  222   \n",
       "3   5  0.06905   0.0   2.18     0  0.458  7.147  54.2  6.0622    3  222   \n",
       "4   7  0.08829  12.5   7.87     0  0.524  6.012  66.6  5.5605    5  311   \n",
       "\n",
       "   ptratio   black  lstat  medv  \n",
       "0     15.3  396.90   4.98  24.0  \n",
       "1     17.8  396.90   9.14  21.6  \n",
       "2     18.7  394.63   2.94  33.4  \n",
       "3     18.7  396.90   5.33  36.2  \n",
       "4     15.2  395.60  12.43  22.9  "
      ]
     },
     "execution_count": 4,
     "metadata": {},
     "output_type": "execute_result"
    }
   ],
   "source": [
    "# Loading the data (which is stored in the file train.csv)\n",
    "import pandas as pd\n",
    "import matplotlib.pyplot as plt\n",
    "%matplotlib inline\n",
    "df = pd.read_csv(\"train.csv\")\n",
    "df.head()"
   ]
  },
  {
   "cell_type": "code",
   "execution_count": 8,
   "metadata": {},
   "outputs": [
    {
     "data": {
      "text/plain": [
       "count    333.000000\n",
       "mean       6.265619\n",
       "std        0.703952\n",
       "min        3.561000\n",
       "25%        5.884000\n",
       "50%        6.202000\n",
       "75%        6.595000\n",
       "max        8.725000\n",
       "Name: rm, dtype: float64"
      ]
     },
     "metadata": {},
     "output_type": "display_data"
    },
    {
     "data": {
      "text/plain": [
       "count    333.000000\n",
       "mean     409.279279\n",
       "std      170.841988\n",
       "min      188.000000\n",
       "25%      279.000000\n",
       "50%      330.000000\n",
       "75%      666.000000\n",
       "max      711.000000\n",
       "Name: tax, dtype: float64"
      ]
     },
     "metadata": {},
     "output_type": "display_data"
    },
    {
     "data": {
      "text/plain": [
       "count    333.000000\n",
       "mean      22.768769\n",
       "std        9.173468\n",
       "min        5.000000\n",
       "25%       17.400000\n",
       "50%       21.600000\n",
       "75%       25.000000\n",
       "max       50.000000\n",
       "Name: medv, dtype: float64"
      ]
     },
     "metadata": {},
     "output_type": "display_data"
    }
   ],
   "source": [
    "# Use built-in python functions to explore measures of centrality and dispersion for at least 3 variables\n",
    "# #crim #ptratio #rm \n",
    "display(df[\"rm\"].describe())\n",
    "display(df[\"tax\"].describe())\n",
    "display(df[\"medv\"].describe())"
   ]
  },
  {
   "cell_type": "code",
   "execution_count": 9,
   "metadata": {},
   "outputs": [],
   "source": [
    "# Create meaningful subsets of the data using selection operations using .loc, .iloc or related operations.\n",
    "#     Explain why you used the chosen subsets and do this for 3 possible 2-way splits. \n",
    "#     State how you think the 2 measures of centrality and/or dispersion might be different for each subset of the data.\n",
    "#     Examples of potential splits:\n",
    "#         Create a 2 new dataframes based on your existing data,\n",
    "#         where one contains all the properties next to the Charles river,\n",
    "#         and the other one contains properties that aren't.\n",
    "#         Create 2 new datagrames based on a certain split for crime rate.\n",
    "\n",
    "by_river = df.loc[df[\"chas\"] == 1]\n",
    "away_river = df.loc[df[\"chas\"]!=1]"
   ]
  },
  {
   "cell_type": "markdown",
   "metadata": {},
   "source": [
    "Seperating properties by if they are near the River. Predictions.\n",
    "I chose to seperate this data by near and away from the river because most towns near a river originally formed to use it as a resource and then as the city grew the properties were located further from it. This means the age of the city decreases the further from the river you get. Most data points will decrease, except for residential land zoned because there is more residential land available the further you are from the city. The median value of homes should increase as well."
   ]
  },
  {
   "cell_type": "code",
   "execution_count": null,
   "metadata": {},
   "outputs": [],
   "source": []
  },
  {
   "cell_type": "code",
   "execution_count": 5,
   "metadata": {},
   "outputs": [],
   "source": [
    "low_medv_crim = df.loc[df[\"crim\"]<=50,\"medv\"]\n",
    "high_medv_crim = df.loc[df[\"crim\"]>50,\"medv\"]"
   ]
  },
  {
   "cell_type": "markdown",
   "metadata": {},
   "source": [
    "Seperating median value of owned homes between above average (21) and below average, and then seeing the per capita crime rate in each of those areas show that homes with higher median value are in towns reporting a lower crime rate per capita. Lower median value homes are most likely in towns reporting similar crime rates, but the data has a larger spread showing homes in higher crime rate areas."
   ]
  },
  {
   "cell_type": "code",
   "execution_count": null,
   "metadata": {},
   "outputs": [],
   "source": []
  },
  {
   "cell_type": "code",
   "execution_count": 6,
   "metadata": {},
   "outputs": [],
   "source": [
    "higher_age_tax = df.loc[df[\"age\"] <= 50]\n",
    "lower_age_tax = df.loc[df[\"age\"]>50]"
   ]
  },
  {
   "cell_type": "markdown",
   "metadata": {},
   "source": [
    "#comment"
   ]
  },
  {
   "cell_type": "code",
   "execution_count": null,
   "metadata": {},
   "outputs": [],
   "source": []
  },
  {
   "cell_type": "code",
   "execution_count": null,
   "metadata": {},
   "outputs": [],
   "source": [
    "data.plot.scatter('A', 'C', \n",
    "                  c = 'B',\n",
    "                  s = data['B'],\n",
    "                 colormap = 'viridis');"
   ]
  },
  {
   "cell_type": "code",
   "execution_count": null,
   "metadata": {},
   "outputs": [],
   "source": [
    "# Define a new figure with matplotlib's .plot() function. Set the size of figure space\n",
    "new_figure = plt.figure(figsize=(10,4))\n",
    "\n",
    "# Add a subplot to the figure - a new axes\n",
    "ax = new_figure.add_subplot(121)\n",
    "\n",
    "# Add a second subplot to the figure - a new axes\n",
    "ax2 = new_figure.add_subplot(122)\n",
    "\n",
    "# Generate a line plot on first axes\n",
    "ax.plot([1, 4, 6, 8], [10, 15, 27, 32], color='lightblue', linewidth=3, linestyle = '-.')\n",
    "\n",
    "# Draw a scatter plot on 2nd axes\n",
    "ax2.scatter([0.5, 2.2, 4.2, 6.5], [21, 19, 9, 26], color='red', marker='o')\n",
    "\n",
    "# Set the limits of x and y for first axes\n",
    "ax.set_xlim(0, 9), ax.set_ylim(5,35)\n",
    "\n",
    "# Set the limits of x and y for 2nd axes\n",
    "ax2.set_xlim(0, 9), ax2.set_ylim(5,35)\n",
    "\n",
    "# Show the plot\n",
    "plt.show()"
   ]
  },
  {
   "cell_type": "markdown",
   "metadata": {},
   "source": [
    "# Variable Descriptions\n",
    "\n",
    "This data frame contains the following columns:\n",
    "\n",
    "#### crim  \n",
    "per capita crime rate by town.\n",
    "\n",
    "#### zn  \n",
    "proportion of residential land zoned for lots over 25,000 sq.ft.\n",
    "\n",
    "#### indus  \n",
    "proportion of non-retail business acres per town.\n",
    "\n",
    "#### chas  \n",
    "Charles River dummy variable (= 1 if tract bounds river; 0 otherwise).\n",
    "\n",
    "#### nox  \n",
    "nitrogen oxides concentration (parts per 10 million).\n",
    "\n",
    "#### rm  \n",
    "average number of rooms per dwelling.\n",
    "\n",
    "#### age  \n",
    "proportion of owner-occupied units built prior to 1940.\n",
    "\n",
    "#### dis  \n",
    "weighted mean of distances to five Boston employment centres.\n",
    "\n",
    "#### rad  \n",
    "index of accessibility to radial highways.\n",
    "\n",
    "#### tax  \n",
    "full-value property-tax rate per $10,000.\n",
    "\n",
    "#### ptratio  \n",
    "pupil-teacher ratio by town.\n",
    "\n",
    "#### black  \n",
    "1000(Bk - 0.63)^2 where Bk is the proportion of blacks by town.\n",
    "\n",
    "#### lstat  \n",
    "lower status of the population (percent).\n",
    "\n",
    "#### medv  \n",
    "median value of owner-occupied homes in $10000s.\n",
    "  \n",
    "  \n",
    "  \n",
    "Source\n",
    "Harrison, D. and Rubinfeld, D.L. (1978) Hedonic prices and the demand for clean air. J. Environ. Economics and Management 5, 81–102.\n",
    "\n",
    "Belsley D.A., Kuh, E. and Welsch, R.E. (1980) Regression Diagnostics. Identifying Influential Data and Sources of Collinearity. New York: Wiley."
   ]
  },
  {
   "cell_type": "code",
   "execution_count": null,
   "metadata": {},
   "outputs": [],
   "source": []
  },
  {
   "cell_type": "code",
   "execution_count": null,
   "metadata": {},
   "outputs": [],
   "source": []
  },
  {
   "cell_type": "markdown",
   "metadata": {},
   "source": [
    "## Summary\n",
    "\n",
    "Congratulations, you've completed your first \"freeform\" exploratory data analysis of a popular data set!"
   ]
  }
 ],
 "metadata": {
  "kernelspec": {
   "display_name": "Python 3",
   "language": "python",
   "name": "python3"
  },
  "language_info": {
   "codemirror_mode": {
    "name": "ipython",
    "version": 3
   },
   "file_extension": ".py",
   "mimetype": "text/x-python",
   "name": "python",
   "nbconvert_exporter": "python",
   "pygments_lexer": "ipython3",
   "version": "3.6.6"
  }
 },
 "nbformat": 4,
 "nbformat_minor": 2
}
